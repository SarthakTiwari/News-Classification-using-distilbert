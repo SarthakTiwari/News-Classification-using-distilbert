{
  "nbformat": 4,
  "nbformat_minor": 0,
  "metadata": {
    "colab": {
      "name": "Prediction.ipynb",
      "provenance": [],
      "collapsed_sections": []
    },
    "kernelspec": {
      "name": "python3",
      "display_name": "Python 3"
    }
  },
  "cells": [
    {
      "cell_type": "code",
      "metadata": {
        "id": "j7rKH-FzlPGp"
      },
      "source": [
        "from transformers import DistilBertTokenizer\r\n",
        "from transformers import TFDistilBertForSequenceClassification"
      ],
      "execution_count": 4,
      "outputs": []
    },
    {
      "cell_type": "code",
      "metadata": {
        "id": "MTxamymhmIQp"
      },
      "source": [
        "import tensorflow as tf"
      ],
      "execution_count": 5,
      "outputs": []
    },
    {
      "cell_type": "code",
      "metadata": {
        "id": "jKTYKUj3nqRv"
      },
      "source": [
        "import numpy"
      ],
      "execution_count": 7,
      "outputs": []
    },
    {
      "cell_type": "code",
      "metadata": {
        "colab": {
          "base_uri": "https://localhost:8080/"
        },
        "id": "XTMHdepbk3JQ",
        "outputId": "37359464-7533-4b1a-96e0-c623c3fe29d9"
      },
      "source": [
        "save_directory = \"./saved_models\" \r\n",
        "loaded_tokenizer = DistilBertTokenizer.from_pretrained(save_directory)\r\n",
        "loaded_model = TFDistilBertForSequenceClassification.from_pretrained(save_directory)"
      ],
      "execution_count": 6,
      "outputs": [
        {
          "output_type": "stream",
          "text": [
            "All model checkpoint layers were used when initializing TFDistilBertForSequenceClassification.\n",
            "\n",
            "All the layers of TFDistilBertForSequenceClassification were initialized from the model checkpoint at ./saved_models.\n",
            "If your task is similar to the task the model of the checkpoint was trained on, you can already use TFDistilBertForSequenceClassification for predictions without further training.\n"
          ],
          "name": "stderr"
        }
      ]
    },
    {
      "cell_type": "code",
      "metadata": {
        "id": "D4YdjNniludh"
      },
      "source": [
        "test_text=\"China, crony capitalism figure in Rahul Gandhi’s criticism of Union Budget\""
      ],
      "execution_count": 8,
      "outputs": []
    },
    {
      "cell_type": "code",
      "metadata": {
        "id": "hyOztxUOn0XQ"
      },
      "source": [
        "mapping={0: 'Arts, Culture and Religion',\r\n",
        " 1: 'Business and money',\r\n",
        " 2: 'CRIME',\r\n",
        " 3: 'ENTERTAINMENT',\r\n",
        " 4: 'ENVIRONMENT',\r\n",
        " 5: 'Education, science and Tech',\r\n",
        " 6: 'Food',\r\n",
        " 7: 'POLITICS',\r\n",
        " 8: 'SPORTS',\r\n",
        " 9: 'STYLE & BEAUTY',\r\n",
        " 10: 'TRAVEL',\r\n",
        " 11: 'Voices',\r\n",
        " 12: 'Wellness and Healthy Living',\r\n",
        " 13: 'World news'}"
      ],
      "execution_count": 9,
      "outputs": []
    },
    {
      "cell_type": "code",
      "metadata": {
        "id": "Mn2KKMDGqRI2"
      },
      "source": [
        "import requests\r\n",
        "url = ('http://newsapi.org/v2/top-headlines?'\r\n",
        "       'country=us&'\r\n",
        "       'apiKey=a12d2619b0e7476099d89991486e060d')\r\n",
        "\r\n",
        "headline_and_description=[]\r\n",
        "response = requests.get(url)\r\n",
        "for i in response.json()[\"articles\"]:\r\n",
        "    headline_and_description.append(i[\"title\"]+ \" \"+i[\"description\"])"
      ],
      "execution_count": 10,
      "outputs": []
    },
    {
      "cell_type": "code",
      "metadata": {
        "colab": {
          "base_uri": "https://localhost:8080/"
        },
        "id": "HVSN_0TkhYX3",
        "outputId": "09617808-de27-4e22-a98a-98136b248ca1"
      },
      "source": [
        "headline_and_description"
      ],
      "execution_count": 11,
      "outputs": [
        {
          "output_type": "execute_result",
          "data": {
            "text/plain": [
              "['WHO team heads to China bat lab at the center of coronavirus conspiracies - CNN A team of World Health Organization investigators in Wuhan are visiting a laboratory Wednesday that has been the focus of conspiracies and speculation about the origin of the coronavirus pandemic.',\n",
              " 'Sony sold 4.5 million PlayStation 5 consoles last year - The Verge Sony shipped 4.5 million PlayStation 5 units worldwide in 2020, the company announced. It’s a similar number to the PS4 launch.',\n",
              " 'Country Radio Quickly Removing Morgan Wallen From Playlists After Racial Slur - Variety The hottest star in music so far in 2021, Morgan Wallen, has suddenly gone very cold. His music was yanked from Cumulus Media, the second biggest radio chain in the nation, as of midnight CT after a storm broke out over his being captured on video using a rac…',\n",
              " \"Jack Ma's uneasy relationship with Beijing casts shadow over Alibaba's strong earnings and future - CNBC Jack Ma appears to have got on the wrong side of the Chinese government, sparking a chain of events that has upped regulatory scrutiny on Alibaba.\",\n",
              " 'U.S. could push Myanmar closer to China if Biden slaps sanctions on Southeast Asian country - CNBC U.S. sanctions on Myanmar could open the door for China to extend its influence in the Southeast Asian country, said an analyst from Stratfor.',\n",
              " \"Jimmy Kimmel Warns Melania Marjorie Taylor Greene Is 'Coming' for Trump - The Daily Beast The late-night host joked that the QAnon congresswoman is “distracting Republicans from the important work of blocking COVID relief to millions of Americans who need it.”\",\n",
              " \"Huawei's foldable Mate X2 will launch on February 22nd - Engadget Huawei's next foldable phone is simply called the Mate X2, and it’ll be unveiled on February 22nd.\",\n",
              " 'Biden, Yellen say GOP virus aid too small, Democrats push on - Associated Press WASHINGTON (AP) — President Joe Biden panned a Republican alternative to his  $1.9 trillion COVID rescue plan  as insufficient as Senate Democrats pushed ahead, voting to launch a process that...',\n",
              " 'Here Are Your 2021 Sundance Film Festival Award Winners - Vulture CODA became the first film in Sundance history to sweep the top three prizes in the U.S. Dramatic category.',\n",
              " 'COVID-19: 0.54% of hospital staff got virus 1-10 days after vaccination - The Jerusalem Post Study calls on medical personnel not to dismiss post-vaccination symptoms',\n",
              " \"'Let them trade': Washington struggles with Robinhood politics - Financial Times Online brokerage faces grilling in Congress after imposing curbs on GameStop trading\",\n",
              " 'Georgia secretary of state opens investigation into Lin Wood over illegal voting allegations | TheHill - The Hill Georgia’s secretary of state office has opened an invesitgation i...',\n",
              " \"Sundar Pichai's Tweet After Jeff Bezos Says He'll Step Down As Amazon CEO - NDTV Google CEO Sundar Pichai on Wednesday congratulated Jeff Bezos and his successor Andy Jassy on their new roles after the Amazon founder announced his decision to stand aside later this year as chief executive of the company.\",\n",
              " \"Bidens pay their respects to Capitol Police Officer Brian Sicknick as officer lies in honor at Capitol - CNN President Joe Biden and first lady Jill Biden arrived at the US Capitol late Tuesday night to pay their respects to fallen US Capitol Police Officer Brian Sicknick, whose remains are lying in honor in the building's famous Rotunda, less than four weeks after …\",\n",
              " 'Trump aides made a late request to Team Biden to extend their parental leave. They said no. - Politico The Trump political appointees said they were surprised they were turned down. The White House says they shouldn’t have been.',\n",
              " '2 FBI agents fatally shot and 3 injured while serving warrant in Florida - CBS News The agents killed were identified as Special Agent Daniel Alfin and Special Agent Laura Schwartzenberger.',\n",
              " 'Some health care workers hesitant to receive COVID-19 vaccine - CBS Evening News Roughly one-third of people who work in healthcare settings want to “wait and see” before getting a COVID-19 vaccine. Adriana Diaz visits a Chicago hospital ...',\n",
              " \"'Paralyzed with grief': Suspect in custody after man, 5 children slain in Muskogee home - Tulsa World The deceased children and man were identified as Jalaiya Pridgeon, 1; Jaidus Pridgeon, 3; Harmony Anderson, 5; Neveah Pridgeon, 6; Que’dynce Anderson, 9, and Javarion Lee, 24.\",\n",
              " 'Treasury Secretary Janet Yellen to call regulator meeting on GameStop volatility, seeks ethics waiver - CNBC Yellen is calling a meeting of key financial regulators this week to discuss market volatility driven by retail trading in GameStop and other stocks.',\n",
              " 'Tina Fey, Amy Poehler to Co-Host Golden Globes in Bicoastal Broadcast - Rolling Stone Ceremony will air live from New York and Los Angeles simultaneously']"
            ]
          },
          "metadata": {
            "tags": []
          },
          "execution_count": 11
        }
      ]
    },
    {
      "cell_type": "code",
      "metadata": {
        "id": "PNttQBoEjYyB"
      },
      "source": [
        "def prediction(test_text):\r\n",
        "    predict_input = loaded_tokenizer.encode(test_text,\r\n",
        "                                    truncation=True,\r\n",
        "                                    padding=True,\r\n",
        "                                    return_tensors=\"tf\")\r\n",
        "\r\n",
        "    output = tf.math.sigmoid(loaded_model(predict_input)[0])\r\n",
        "\r\n",
        "    output_array=numpy.array(output)[0]\r\n",
        "\r\n",
        "    pred=numpy.argsort(-output_array)[:3]\r\n",
        "\r\n",
        "    pred_dict={}\r\n",
        "    for i in pred:\r\n",
        "        pred_dict[mapping[i]]=output_array[i]\r\n",
        "\r\n",
        "    return pred_dict"
      ],
      "execution_count": 12,
      "outputs": []
    },
    {
      "cell_type": "code",
      "metadata": {
        "colab": {
          "base_uri": "https://localhost:8080/"
        },
        "id": "C7coRuSBj03D",
        "outputId": "c4f2d63a-4b51-4180-cfb1-53dd3019a109"
      },
      "source": [
        "for i in headline_and_description:\r\n",
        "  print(i)\r\n",
        "  print(\" \")\r\n",
        "  print(prediction(i))\r\n",
        "  print(\" \")\r\n"
      ],
      "execution_count": 17,
      "outputs": [
        {
          "output_type": "stream",
          "text": [
            "WHO team heads to China bat lab at the center of coronavirus conspiracies - CNN A team of World Health Organization investigators in Wuhan are visiting a laboratory Wednesday that has been the focus of conspiracies and speculation about the origin of the coronavirus pandemic.\n",
            " \n",
            "{'Education, science and Tech': 0.96738076, 'World news': 0.95020723, 'Wellness and Healthy Living': 0.899034}\n",
            " \n",
            "Sony sold 4.5 million PlayStation 5 consoles last year - The Verge Sony shipped 4.5 million PlayStation 5 units worldwide in 2020, the company announced. It’s a similar number to the PS4 launch.\n",
            " \n",
            "{'Education, science and Tech': 0.99872816, 'Business and money': 0.9551629, 'Voices': 0.44591463}\n",
            " \n",
            "Country Radio Quickly Removing Morgan Wallen From Playlists After Racial Slur - Variety The hottest star in music so far in 2021, Morgan Wallen, has suddenly gone very cold. His music was yanked from Cumulus Media, the second biggest radio chain in the nation, as of midnight CT after a storm broke out over his being captured on video using a rac…\n",
            " \n",
            "{'ENTERTAINMENT': 0.9860184, 'Voices': 0.95289767, 'POLITICS': 0.9099816}\n",
            " \n",
            "Jack Ma's uneasy relationship with Beijing casts shadow over Alibaba's strong earnings and future - CNBC Jack Ma appears to have got on the wrong side of the Chinese government, sparking a chain of events that has upped regulatory scrutiny on Alibaba.\n",
            " \n",
            "{'Business and money': 0.9921025, 'World news': 0.9509047, 'SPORTS': 0.38561177}\n",
            " \n",
            "U.S. could push Myanmar closer to China if Biden slaps sanctions on Southeast Asian country - CNBC U.S. sanctions on Myanmar could open the door for China to extend its influence in the Southeast Asian country, said an analyst from Stratfor.\n",
            " \n",
            "{'World news': 0.9991103, 'POLITICS': 0.79458714, 'Business and money': 0.7527697}\n",
            " \n",
            "Jimmy Kimmel Warns Melania Marjorie Taylor Greene Is 'Coming' for Trump - The Daily Beast The late-night host joked that the QAnon congresswoman is “distracting Republicans from the important work of blocking COVID relief to millions of Americans who need it.”\n",
            " \n",
            "{'POLITICS': 0.9984139, 'ENTERTAINMENT': 0.79698914, 'World news': 0.5736044}\n",
            " \n",
            "Huawei's foldable Mate X2 will launch on February 22nd - Engadget Huawei's next foldable phone is simply called the Mate X2, and it’ll be unveiled on February 22nd.\n",
            " \n",
            "{'Education, science and Tech': 0.9969571, 'Business and money': 0.984077, 'Voices': 0.38093007}\n",
            " \n",
            "Biden, Yellen say GOP virus aid too small, Democrats push on - Associated Press WASHINGTON (AP) — President Joe Biden panned a Republican alternative to his  $1.9 trillion COVID rescue plan  as insufficient as Senate Democrats pushed ahead, voting to launch a process that...\n",
            " \n",
            "{'POLITICS': 0.9990994, 'Wellness and Healthy Living': 0.5861496, 'Business and money': 0.41579264}\n",
            " \n",
            "Here Are Your 2021 Sundance Film Festival Award Winners - Vulture CODA became the first film in Sundance history to sweep the top three prizes in the U.S. Dramatic category.\n",
            " \n",
            "{'ENTERTAINMENT': 0.9990213, 'Arts, Culture and Religion': 0.730868, 'Education, science and Tech': 0.358908}\n",
            " \n",
            "COVID-19: 0.54% of hospital staff got virus 1-10 days after vaccination - The Jerusalem Post Study calls on medical personnel not to dismiss post-vaccination symptoms\n",
            " \n",
            "{'Wellness and Healthy Living': 0.9985264, 'Education, science and Tech': 0.68486786, 'World news': 0.573517}\n",
            " \n",
            "'Let them trade': Washington struggles with Robinhood politics - Financial Times Online brokerage faces grilling in Congress after imposing curbs on GameStop trading\n",
            " \n",
            "{'Business and money': 0.99306643, 'POLITICS': 0.77518415, 'Education, science and Tech': 0.66785055}\n",
            " \n",
            "Georgia secretary of state opens investigation into Lin Wood over illegal voting allegations | TheHill - The Hill Georgia’s secretary of state office has opened an invesitgation i...\n",
            " \n",
            "{'POLITICS': 0.9990927, 'Voices': 0.8637986, 'CRIME': 0.37575412}\n",
            " \n",
            "Sundar Pichai's Tweet After Jeff Bezos Says He'll Step Down As Amazon CEO - NDTV Google CEO Sundar Pichai on Wednesday congratulated Jeff Bezos and his successor Andy Jassy on their new roles after the Amazon founder announced his decision to stand aside later this year as chief executive of the company.\n",
            " \n",
            "{'Business and money': 0.99560565, 'Education, science and Tech': 0.99096894, 'POLITICS': 0.46816036}\n",
            " \n",
            "Bidens pay their respects to Capitol Police Officer Brian Sicknick as officer lies in honor at Capitol - CNN President Joe Biden and first lady Jill Biden arrived at the US Capitol late Tuesday night to pay their respects to fallen US Capitol Police Officer Brian Sicknick, whose remains are lying in honor in the building's famous Rotunda, less than four weeks after …\n",
            " \n",
            "{'POLITICS': 0.9995307, 'Voices': 0.64410627, 'CRIME': 0.3222503}\n",
            " \n",
            "Trump aides made a late request to Team Biden to extend their parental leave. They said no. - Politico The Trump political appointees said they were surprised they were turned down. The White House says they shouldn’t have been.\n",
            " \n",
            "{'POLITICS': 0.9991559, 'Business and money': 0.7690452, 'World news': 0.522539}\n",
            " \n",
            "2 FBI agents fatally shot and 3 injured while serving warrant in Florida - CBS News The agents killed were identified as Special Agent Daniel Alfin and Special Agent Laura Schwartzenberger.\n",
            " \n",
            "{'CRIME': 0.9947778, 'POLITICS': 0.9828987, 'Voices': 0.8951093}\n",
            " \n",
            "Some health care workers hesitant to receive COVID-19 vaccine - CBS Evening News Roughly one-third of people who work in healthcare settings want to “wait and see” before getting a COVID-19 vaccine. Adriana Diaz visits a Chicago hospital ...\n",
            " \n",
            "{'Wellness and Healthy Living': 0.9867014, 'POLITICS': 0.9810122, 'Business and money': 0.64653945}\n",
            " \n",
            "'Paralyzed with grief': Suspect in custody after man, 5 children slain in Muskogee home - Tulsa World The deceased children and man were identified as Jalaiya Pridgeon, 1; Jaidus Pridgeon, 3; Harmony Anderson, 5; Neveah Pridgeon, 6; Que’dynce Anderson, 9, and Javarion Lee, 24.\n",
            " \n",
            "{'CRIME': 0.9987898, 'Voices': 0.9099589, 'POLITICS': 0.8078566}\n",
            " \n",
            "Treasury Secretary Janet Yellen to call regulator meeting on GameStop volatility, seeks ethics waiver - CNBC Yellen is calling a meeting of key financial regulators this week to discuss market volatility driven by retail trading in GameStop and other stocks.\n",
            " \n",
            "{'Business and money': 0.99879164, 'POLITICS': 0.9192788, 'Education, science and Tech': 0.76562834}\n",
            " \n",
            "Tina Fey, Amy Poehler to Co-Host Golden Globes in Bicoastal Broadcast - Rolling Stone Ceremony will air live from New York and Los Angeles simultaneously\n",
            " \n",
            "{'ENTERTAINMENT': 0.9997288, 'Voices': 0.63467985, 'Arts, Culture and Religion': 0.4556765}\n",
            " \n"
          ],
          "name": "stdout"
        }
      ]
    }
  ]
}