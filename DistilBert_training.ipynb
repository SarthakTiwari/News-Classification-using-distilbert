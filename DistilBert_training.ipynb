{
  "nbformat": 4,
  "nbformat_minor": 0,
  "metadata": {
    "colab": {
      "name": "DistilBert_training.ipynb",
      "provenance": [],
      "collapsed_sections": []
    },
    "kernelspec": {
      "name": "python3",
      "display_name": "Python 3"
    },
    "accelerator": "GPU"
  },
  "cells": [
    {
      "cell_type": "code",
      "metadata": {
        "colab": {
          "base_uri": "https://localhost:8080/"
        },
        "id": "N08heOIrZ4UV",
        "outputId": "f967f603-aaac-4b51-a6fa-d17524f5b4b7"
      },
      "source": [
        "pip install transformers"
      ],
      "execution_count": 3,
      "outputs": [
        {
          "output_type": "stream",
          "text": [
            "Requirement already satisfied: transformers in /usr/local/lib/python3.6/dist-packages (4.2.2)\n",
            "Requirement already satisfied: numpy in /usr/local/lib/python3.6/dist-packages (from transformers) (1.19.5)\n",
            "Requirement already satisfied: regex!=2019.12.17 in /usr/local/lib/python3.6/dist-packages (from transformers) (2019.12.20)\n",
            "Requirement already satisfied: sacremoses in /usr/local/lib/python3.6/dist-packages (from transformers) (0.0.43)\n",
            "Requirement already satisfied: tokenizers==0.9.4 in /usr/local/lib/python3.6/dist-packages (from transformers) (0.9.4)\n",
            "Requirement already satisfied: dataclasses; python_version < \"3.7\" in /usr/local/lib/python3.6/dist-packages (from transformers) (0.8)\n",
            "Requirement already satisfied: tqdm>=4.27 in /usr/local/lib/python3.6/dist-packages (from transformers) (4.41.1)\n",
            "Requirement already satisfied: filelock in /usr/local/lib/python3.6/dist-packages (from transformers) (3.0.12)\n",
            "Requirement already satisfied: packaging in /usr/local/lib/python3.6/dist-packages (from transformers) (20.8)\n",
            "Requirement already satisfied: requests in /usr/local/lib/python3.6/dist-packages (from transformers) (2.23.0)\n",
            "Requirement already satisfied: importlib-metadata; python_version < \"3.8\" in /usr/local/lib/python3.6/dist-packages (from transformers) (3.4.0)\n",
            "Requirement already satisfied: joblib in /usr/local/lib/python3.6/dist-packages (from sacremoses->transformers) (1.0.0)\n",
            "Requirement already satisfied: click in /usr/local/lib/python3.6/dist-packages (from sacremoses->transformers) (7.1.2)\n",
            "Requirement already satisfied: six in /usr/local/lib/python3.6/dist-packages (from sacremoses->transformers) (1.15.0)\n",
            "Requirement already satisfied: pyparsing>=2.0.2 in /usr/local/lib/python3.6/dist-packages (from packaging->transformers) (2.4.7)\n",
            "Requirement already satisfied: idna<3,>=2.5 in /usr/local/lib/python3.6/dist-packages (from requests->transformers) (2.10)\n",
            "Requirement already satisfied: certifi>=2017.4.17 in /usr/local/lib/python3.6/dist-packages (from requests->transformers) (2020.12.5)\n",
            "Requirement already satisfied: chardet<4,>=3.0.2 in /usr/local/lib/python3.6/dist-packages (from requests->transformers) (3.0.4)\n",
            "Requirement already satisfied: urllib3!=1.25.0,!=1.25.1,<1.26,>=1.21.1 in /usr/local/lib/python3.6/dist-packages (from requests->transformers) (1.24.3)\n",
            "Requirement already satisfied: zipp>=0.5 in /usr/local/lib/python3.6/dist-packages (from importlib-metadata; python_version < \"3.8\"->transformers) (3.4.0)\n",
            "Requirement already satisfied: typing-extensions>=3.6.4; python_version < \"3.8\" in /usr/local/lib/python3.6/dist-packages (from importlib-metadata; python_version < \"3.8\"->transformers) (3.7.4.3)\n"
          ],
          "name": "stdout"
        }
      ]
    },
    {
      "cell_type": "code",
      "metadata": {
        "id": "kPnhW-qxZrZ6"
      },
      "source": [
        "from transformers import DistilBertTokenizer\r\n",
        "from transformers import TFDistilBertForSequenceClassification\r\n",
        "import tensorflow as tf\r\n",
        "import pandas as pd"
      ],
      "execution_count": 4,
      "outputs": []
    },
    {
      "cell_type": "code",
      "metadata": {
        "colab": {
          "base_uri": "https://localhost:8080/",
          "height": 204
        },
        "id": "2jsYlKPPZybc",
        "outputId": "751c042f-4581-4016-8916-a282743ac8dd"
      },
      "source": [
        "df = pd.read_csv(\"New_news_classification_dataset.csv\")\r\n",
        "df.head()"
      ],
      "execution_count": 5,
      "outputs": [
        {
          "output_type": "execute_result",
          "data": {
            "text/html": [
              "<div>\n",
              "<style scoped>\n",
              "    .dataframe tbody tr th:only-of-type {\n",
              "        vertical-align: middle;\n",
              "    }\n",
              "\n",
              "    .dataframe tbody tr th {\n",
              "        vertical-align: top;\n",
              "    }\n",
              "\n",
              "    .dataframe thead th {\n",
              "        text-align: right;\n",
              "    }\n",
              "</style>\n",
              "<table border=\"1\" class=\"dataframe\">\n",
              "  <thead>\n",
              "    <tr style=\"text-align: right;\">\n",
              "      <th></th>\n",
              "      <th>category</th>\n",
              "      <th>headline</th>\n",
              "      <th>short_description</th>\n",
              "    </tr>\n",
              "  </thead>\n",
              "  <tbody>\n",
              "    <tr>\n",
              "      <th>0</th>\n",
              "      <td>Arts, Culture and Religion</td>\n",
              "      <td>Eddie Huang Respectfully Schools Trump Support...</td>\n",
              "      <td>\"I would disagree with you when you say this i...</td>\n",
              "    </tr>\n",
              "    <tr>\n",
              "      <th>1</th>\n",
              "      <td>Arts, Culture and Religion</td>\n",
              "      <td>Chimamanda Ngozi Adichie Says The American Lef...</td>\n",
              "      <td>“The left is very cannibalistic. It eats its o...</td>\n",
              "    </tr>\n",
              "    <tr>\n",
              "      <th>2</th>\n",
              "      <td>Arts, Culture and Religion</td>\n",
              "      <td>Martin Scorsese To Direct Movie About Jesuit M...</td>\n",
              "      <td>NaN</td>\n",
              "    </tr>\n",
              "    <tr>\n",
              "      <th>3</th>\n",
              "      <td>Arts, Culture and Religion</td>\n",
              "      <td>Dana Schutz's 'Piano In The Rain' Debuts At Fr...</td>\n",
              "      <td>\"Piano in the Rain\" imbues bizarre scenarios w...</td>\n",
              "    </tr>\n",
              "    <tr>\n",
              "      <th>4</th>\n",
              "      <td>Arts, Culture and Religion</td>\n",
              "      <td>Apichatpong Werasethakul's 'Cemetery of Splend...</td>\n",
              "      <td>To watch an Apichatpong Werasethakul film is t...</td>\n",
              "    </tr>\n",
              "  </tbody>\n",
              "</table>\n",
              "</div>"
            ],
            "text/plain": [
              "                     category  ...                                  short_description\n",
              "0  Arts, Culture and Religion  ...  \"I would disagree with you when you say this i...\n",
              "1  Arts, Culture and Religion  ...  “The left is very cannibalistic. It eats its o...\n",
              "2  Arts, Culture and Religion  ...                                                NaN\n",
              "3  Arts, Culture and Religion  ...  \"Piano in the Rain\" imbues bizarre scenarios w...\n",
              "4  Arts, Culture and Religion  ...  To watch an Apichatpong Werasethakul film is t...\n",
              "\n",
              "[5 rows x 3 columns]"
            ]
          },
          "metadata": {
            "tags": []
          },
          "execution_count": 5
        }
      ]
    },
    {
      "cell_type": "code",
      "metadata": {
        "id": "gAZe0CEIayHn"
      },
      "source": [
        "df['headline&description']=df['headline'].fillna('')+\" \"+df['short_description'].fillna('')\r\n",
        "#df['headline&description'] = df[['headline','short_description']].agg(' '.join, axis=1)\r\n",
        "df['encoded_cat'] = df['category'].astype('category').cat.codes"
      ],
      "execution_count": 6,
      "outputs": []
    },
    {
      "cell_type": "code",
      "metadata": {
        "colab": {
          "base_uri": "https://localhost:8080/",
          "height": 289
        },
        "id": "pt6WyZHjbxty",
        "outputId": "50d6d25b-d710-4eb0-b175-8a077a1fe967"
      },
      "source": [
        "df.head()"
      ],
      "execution_count": 7,
      "outputs": [
        {
          "output_type": "execute_result",
          "data": {
            "text/html": [
              "<div>\n",
              "<style scoped>\n",
              "    .dataframe tbody tr th:only-of-type {\n",
              "        vertical-align: middle;\n",
              "    }\n",
              "\n",
              "    .dataframe tbody tr th {\n",
              "        vertical-align: top;\n",
              "    }\n",
              "\n",
              "    .dataframe thead th {\n",
              "        text-align: right;\n",
              "    }\n",
              "</style>\n",
              "<table border=\"1\" class=\"dataframe\">\n",
              "  <thead>\n",
              "    <tr style=\"text-align: right;\">\n",
              "      <th></th>\n",
              "      <th>category</th>\n",
              "      <th>headline</th>\n",
              "      <th>short_description</th>\n",
              "      <th>headline&amp;description</th>\n",
              "      <th>encoded_cat</th>\n",
              "    </tr>\n",
              "  </thead>\n",
              "  <tbody>\n",
              "    <tr>\n",
              "      <th>0</th>\n",
              "      <td>Arts, Culture and Religion</td>\n",
              "      <td>Eddie Huang Respectfully Schools Trump Support...</td>\n",
              "      <td>\"I would disagree with you when you say this i...</td>\n",
              "      <td>Eddie Huang Respectfully Schools Trump Support...</td>\n",
              "      <td>0</td>\n",
              "    </tr>\n",
              "    <tr>\n",
              "      <th>1</th>\n",
              "      <td>Arts, Culture and Religion</td>\n",
              "      <td>Chimamanda Ngozi Adichie Says The American Lef...</td>\n",
              "      <td>“The left is very cannibalistic. It eats its o...</td>\n",
              "      <td>Chimamanda Ngozi Adichie Says The American Lef...</td>\n",
              "      <td>0</td>\n",
              "    </tr>\n",
              "    <tr>\n",
              "      <th>2</th>\n",
              "      <td>Arts, Culture and Religion</td>\n",
              "      <td>Martin Scorsese To Direct Movie About Jesuit M...</td>\n",
              "      <td>NaN</td>\n",
              "      <td>Martin Scorsese To Direct Movie About Jesuit M...</td>\n",
              "      <td>0</td>\n",
              "    </tr>\n",
              "    <tr>\n",
              "      <th>3</th>\n",
              "      <td>Arts, Culture and Religion</td>\n",
              "      <td>Dana Schutz's 'Piano In The Rain' Debuts At Fr...</td>\n",
              "      <td>\"Piano in the Rain\" imbues bizarre scenarios w...</td>\n",
              "      <td>Dana Schutz's 'Piano In The Rain' Debuts At Fr...</td>\n",
              "      <td>0</td>\n",
              "    </tr>\n",
              "    <tr>\n",
              "      <th>4</th>\n",
              "      <td>Arts, Culture and Religion</td>\n",
              "      <td>Apichatpong Werasethakul's 'Cemetery of Splend...</td>\n",
              "      <td>To watch an Apichatpong Werasethakul film is t...</td>\n",
              "      <td>Apichatpong Werasethakul's 'Cemetery of Splend...</td>\n",
              "      <td>0</td>\n",
              "    </tr>\n",
              "  </tbody>\n",
              "</table>\n",
              "</div>"
            ],
            "text/plain": [
              "                     category  ... encoded_cat\n",
              "0  Arts, Culture and Religion  ...           0\n",
              "1  Arts, Culture and Religion  ...           0\n",
              "2  Arts, Culture and Religion  ...           0\n",
              "3  Arts, Culture and Religion  ...           0\n",
              "4  Arts, Culture and Religion  ...           0\n",
              "\n",
              "[5 rows x 5 columns]"
            ]
          },
          "metadata": {
            "tags": []
          },
          "execution_count": 7
        }
      ]
    },
    {
      "cell_type": "code",
      "metadata": {
        "colab": {
          "base_uri": "https://localhost:8080/",
          "height": 35
        },
        "id": "wE9XcmGPfXAy",
        "outputId": "79336279-08e3-4665-a64c-4bfa62477b81"
      },
      "source": [
        "df[\"headline&description\"][2]"
      ],
      "execution_count": 8,
      "outputs": [
        {
          "output_type": "execute_result",
          "data": {
            "application/vnd.google.colaboratory.intrinsic+json": {
              "type": "string"
            },
            "text/plain": [
              "'Martin Scorsese To Direct Movie About Jesuit Missionaries '"
            ]
          },
          "metadata": {
            "tags": []
          },
          "execution_count": 8
        }
      ]
    },
    {
      "cell_type": "code",
      "metadata": {
        "id": "JGGkB2YFb0zu"
      },
      "source": [
        "mapping={}\r\n",
        "for i in range(len(df['category'].unique())):\r\n",
        "  mapping[i]=df['category'].astype('category').cat.categories[i]"
      ],
      "execution_count": 9,
      "outputs": []
    },
    {
      "cell_type": "code",
      "metadata": {
        "colab": {
          "base_uri": "https://localhost:8080/"
        },
        "id": "W9zlUMwZcaL-",
        "outputId": "fdf39f57-14a9-4134-fe9e-0fcc895449f4"
      },
      "source": [
        "mapping"
      ],
      "execution_count": 10,
      "outputs": [
        {
          "output_type": "execute_result",
          "data": {
            "text/plain": [
              "{0: 'Arts, Culture and Religion',\n",
              " 1: 'Business and money',\n",
              " 2: 'CRIME',\n",
              " 3: 'ENTERTAINMENT',\n",
              " 4: 'ENVIRONMENT',\n",
              " 5: 'Education, science and Tech',\n",
              " 6: 'Food',\n",
              " 7: 'POLITICS',\n",
              " 8: 'SPORTS',\n",
              " 9: 'STYLE & BEAUTY',\n",
              " 10: 'TRAVEL',\n",
              " 11: 'Voices',\n",
              " 12: 'Wellness and Healthy Living',\n",
              " 13: 'World news'}"
            ]
          },
          "metadata": {
            "tags": []
          },
          "execution_count": 10
        }
      ]
    },
    {
      "cell_type": "code",
      "metadata": {
        "id": "iVRhcaradp7-"
      },
      "source": [
        "data_texts = df[\"headline&description\"].to_list() \r\n",
        "data_labels = df[\"encoded_cat\"].to_list()"
      ],
      "execution_count": 11,
      "outputs": []
    },
    {
      "cell_type": "code",
      "metadata": {
        "id": "iDDO-rm_d7QX"
      },
      "source": [
        "from sklearn.model_selection import train_test_split\r\n",
        "\r\n",
        "# Split Train and Validation data\r\n",
        "train_texts, val_texts, train_labels, val_labels = train_test_split(data_texts, data_labels, test_size=0.2, random_state=0)\r\n",
        "\r\n",
        "#data for inference (testing)\r\n",
        "train_texts, test_texts, train_labels, test_labels = train_test_split(train_texts, train_labels, test_size=0.2, random_state=0)"
      ],
      "execution_count": 12,
      "outputs": []
    },
    {
      "cell_type": "code",
      "metadata": {
        "id": "o4U-lg3ueWcT"
      },
      "source": [
        "tokenizer = DistilBertTokenizer.from_pretrained('distilbert-base-uncased')\r\n",
        "train_encodings = tokenizer(train_texts, truncation=True, padding=True)\r\n",
        "val_encodings = tokenizer(val_texts, truncation=True, padding=True)\r\n"
      ],
      "execution_count": 13,
      "outputs": []
    },
    {
      "cell_type": "code",
      "metadata": {
        "id": "4s42Ox5leh56"
      },
      "source": [
        "train_dataset = tf.data.Dataset.from_tensor_slices((\r\n",
        "    dict(train_encodings),\r\n",
        "    train_labels\r\n",
        "))\r\n",
        "val_dataset = tf.data.Dataset.from_tensor_slices((\r\n",
        "    dict(val_encodings),\r\n",
        "    val_labels\r\n",
        "))\r\n"
      ],
      "execution_count": 14,
      "outputs": []
    },
    {
      "cell_type": "code",
      "metadata": {
        "colab": {
          "base_uri": "https://localhost:8080/"
        },
        "id": "z2zO4Emjh2KS",
        "outputId": "382ca1da-08f8-4ed7-82e9-ded17c5a564b"
      },
      "source": [
        "model = TFDistilBertForSequenceClassification.from_pretrained('distilbert-base-uncased', num_labels=14)\r\n",
        "\r\n",
        "optimizer = tf.keras.optimizers.Adam(learning_rate=5e-5)\r\n",
        "model.compile(optimizer=optimizer, loss=model.compute_loss, metrics=['accuracy'])"
      ],
      "execution_count": 15,
      "outputs": [
        {
          "output_type": "stream",
          "text": [
            "Some layers from the model checkpoint at distilbert-base-uncased were not used when initializing TFDistilBertForSequenceClassification: ['activation_13', 'vocab_transform', 'vocab_layer_norm', 'vocab_projector']\n",
            "- This IS expected if you are initializing TFDistilBertForSequenceClassification from the checkpoint of a model trained on another task or with another architecture (e.g. initializing a BertForSequenceClassification model from a BertForPreTraining model).\n",
            "- This IS NOT expected if you are initializing TFDistilBertForSequenceClassification from the checkpoint of a model that you expect to be exactly identical (initializing a BertForSequenceClassification model from a BertForSequenceClassification model).\n",
            "Some layers of TFDistilBertForSequenceClassification were not initialized from the model checkpoint at distilbert-base-uncased and are newly initialized: ['dropout_19', 'classifier', 'pre_classifier']\n",
            "You should probably TRAIN this model on a down-stream task to be able to use it for predictions and inference.\n"
          ],
          "name": "stderr"
        }
      ]
    },
    {
      "cell_type": "code",
      "metadata": {
        "colab": {
          "base_uri": "https://localhost:8080/"
        },
        "id": "qyTJATnyku2W",
        "outputId": "2296050d-ca8f-4aef-83fc-05942f2355e2"
      },
      "source": [
        "model.fit(train_dataset.shuffle(42).batch(32), epochs=3, batch_size=32,\r\n",
        "          validation_data=val_dataset.shuffle(42).batch(32))"
      ],
      "execution_count": 18,
      "outputs": [
        {
          "output_type": "stream",
          "text": [
            "Epoch 1/3\n",
            "2187/2187 [==============================] - ETA: 0s - loss: 0.8548 - accuracy: 0.7433"
          ],
          "name": "stdout"
        },
        {
          "output_type": "stream",
          "text": [
            "The parameters `output_attentions`, `output_hidden_states` and `use_cache` cannot be updated when calling a model.They have to be set to True/False in the config object (i.e.: `config=XConfig.from_pretrained('name', output_attentions=True)`).\n",
            "The parameter `return_dict` cannot be set in graph mode and will always be set to `True`.\n"
          ],
          "name": "stderr"
        },
        {
          "output_type": "stream",
          "text": [
            "\b\b\b\b\b\b\b\b\b\b\b\b\b\b\b\b\b\b\b\b\b\b\b\b\b\b\b\b\b\b\b\b\b\b\b\b\b\b\b\b\b\b\b\b\b\b\b\b\b\b\b\b\b\b\b\b\b\b\b\b\b\b\b\b\b\b\b\b\b\b\b\b\b\b\b\b\b\b\b\b\b\b\b\b\b\b\r2187/2187 [==============================] - 4345s 2s/step - loss: 0.8548 - accuracy: 0.7433 - val_loss: 0.7024 - val_accuracy: 0.7788\n",
            "Epoch 2/3\n",
            "2187/2187 [==============================] - 4334s 2s/step - loss: 0.4869 - accuracy: 0.8515 - val_loss: 0.7368 - val_accuracy: 0.7749\n",
            "Epoch 3/3\n",
            "2187/2187 [==============================] - 4298s 2s/step - loss: 0.2845 - accuracy: 0.9152 - val_loss: 0.8379 - val_accuracy: 0.7753\n"
          ],
          "name": "stdout"
        },
        {
          "output_type": "execute_result",
          "data": {
            "text/plain": [
              "<tensorflow.python.keras.callbacks.History at 0x7f22b11510f0>"
            ]
          },
          "metadata": {
            "tags": []
          },
          "execution_count": 18
        }
      ]
    },
    {
      "cell_type": "code",
      "metadata": {
        "colab": {
          "base_uri": "https://localhost:8080/"
        },
        "id": "dJiWnslelIlx",
        "outputId": "4cb1ef26-839a-47b4-fa6e-3cdc2635d6d9"
      },
      "source": [
        "save_directory = \"./saved_models\" \r\n",
        "\r\n",
        "model.save_pretrained(save_directory)\r\n",
        "tokenizer.save_pretrained(save_directory)"
      ],
      "execution_count": 20,
      "outputs": [
        {
          "output_type": "execute_result",
          "data": {
            "text/plain": [
              "('./saved_models/tokenizer_config.json',\n",
              " './saved_models/special_tokens_map.json',\n",
              " './saved_models/vocab.txt',\n",
              " './saved_models/added_tokens.json')"
            ]
          },
          "metadata": {
            "tags": []
          },
          "execution_count": 20
        }
      ]
    },
    {
      "cell_type": "code",
      "metadata": {
        "id": "2Pf01lmkmW-x"
      },
      "source": [
        ""
      ],
      "execution_count": null,
      "outputs": []
    }
  ]
}